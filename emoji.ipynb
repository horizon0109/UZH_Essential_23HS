{
 "cells": [
  {
   "cell_type": "markdown",
   "id": "ac1ceafb0a09d3cb",
   "metadata": {
    "collapsed": false
   },
   "source": [
    "# Import the libraries"
   ]
  },
  {
   "cell_type": "code",
   "execution_count": 168,
   "outputs": [],
   "source": [
    "import numpy as np\n",
    "import pandas as pd\n",
    "import matplotlib.pyplot as plt\n",
    "%matplotlib inline\n",
    "import re\n",
    "from transformers import BertTokenizer, BertModel, BertForMaskedLM, BertweetTokenizer, AutoModel, AutoTokenizer\n",
    "import torch\n",
    "import torch.nn as nn\n",
    "from torch.nn.utils.rnn import pad_sequence\n",
    "\n",
    "from sklearn.metrics import accuracy_score, f1_score\n",
    "from sklearn.metrics import classification_report\n",
    "from sklearn.feature_extraction.text import TfidfVectorizer\n",
    "from sklearn.linear_model import LogisticRegression\n",
    "from sklearn.svm import SVC\n",
    "from sklearn.ensemble import RandomForestClassifier\n",
    "\n",
    "import nltk\n",
    "from nltk.corpus import stopwords\n",
    "from nltk.tokenize import word_tokenize, RegexpTokenizer\n",
    "from nltk.stem import WordNetLemmatizer"
   ],
   "metadata": {
    "collapsed": false,
    "ExecuteTime": {
     "end_time": "2023-10-27T13:25:45.350444Z",
     "start_time": "2023-10-27T13:25:45.322509Z"
    }
   },
   "id": "328985f11a5d48b3"
  },
  {
   "cell_type": "code",
   "execution_count": 79,
   "outputs": [],
   "source": [
    "import warnings\n",
    "warnings.filterwarnings(\"ignore\")"
   ],
   "metadata": {
    "collapsed": false,
    "ExecuteTime": {
     "end_time": "2023-10-26T23:30:24.432585Z",
     "start_time": "2023-10-26T23:30:24.418641Z"
    }
   },
   "id": "18dad26f47f8a823"
  },
  {
   "cell_type": "code",
   "execution_count": 80,
   "outputs": [
    {
     "name": "stderr",
     "output_type": "stream",
     "text": [
      "[nltk_data] Downloading package wordnet to /Users/hrz/nltk_data...\n",
      "[nltk_data]   Package wordnet is already up-to-date!\n"
     ]
    },
    {
     "data": {
      "text/plain": "True"
     },
     "execution_count": 80,
     "metadata": {},
     "output_type": "execute_result"
    }
   ],
   "source": [
    "nltk.download('wordnet')"
   ],
   "metadata": {
    "collapsed": false,
    "ExecuteTime": {
     "end_time": "2023-10-26T23:30:26.469509Z",
     "start_time": "2023-10-26T23:30:26.291179Z"
    }
   },
   "id": "be804c4f51415260"
  },
  {
   "cell_type": "markdown",
   "source": [
    "# Import the datasets"
   ],
   "metadata": {
    "collapsed": false
   },
   "id": "462a69dca47de3aa"
  },
  {
   "cell_type": "code",
   "execution_count": 272,
   "outputs": [],
   "source": [
    "train = pd.read_csv('Datasets/train_text_emoji_clean.csv')\n",
    "test = pd.read_csv('Datasets/test_text_emoji_clean.csv')\n",
    "valid = pd.read_csv('Datasets/valid_text_emoji_clean.csv')"
   ],
   "metadata": {
    "collapsed": false,
    "ExecuteTime": {
     "end_time": "2023-10-27T14:41:33.154826Z",
     "start_time": "2023-10-27T14:41:33.087632Z"
    }
   },
   "id": "7828a114c232763e"
  },
  {
   "cell_type": "code",
   "execution_count": 273,
   "outputs": [
    {
     "data": {
      "text/plain": "  annotations                                             tweets  labels\n0           😂                         school is so dead o my god       0\n1           😂  lol ive been told mine is worse than yours but...       0\n2           😂  im excited to hear them that shit is going rat...       0\n3           😂  damn alicia knows everything even indirect tweets       0\n4           😂                         that sound like everything       0",
      "text/html": "<div>\n<style scoped>\n    .dataframe tbody tr th:only-of-type {\n        vertical-align: middle;\n    }\n\n    .dataframe tbody tr th {\n        vertical-align: top;\n    }\n\n    .dataframe thead th {\n        text-align: right;\n    }\n</style>\n<table border=\"1\" class=\"dataframe\">\n  <thead>\n    <tr style=\"text-align: right;\">\n      <th></th>\n      <th>annotations</th>\n      <th>tweets</th>\n      <th>labels</th>\n    </tr>\n  </thead>\n  <tbody>\n    <tr>\n      <th>0</th>\n      <td>😂</td>\n      <td>school is so dead o my god</td>\n      <td>0</td>\n    </tr>\n    <tr>\n      <th>1</th>\n      <td>😂</td>\n      <td>lol ive been told mine is worse than yours but...</td>\n      <td>0</td>\n    </tr>\n    <tr>\n      <th>2</th>\n      <td>😂</td>\n      <td>im excited to hear them that shit is going rat...</td>\n      <td>0</td>\n    </tr>\n    <tr>\n      <th>3</th>\n      <td>😂</td>\n      <td>damn alicia knows everything even indirect tweets</td>\n      <td>0</td>\n    </tr>\n    <tr>\n      <th>4</th>\n      <td>😂</td>\n      <td>that sound like everything</td>\n      <td>0</td>\n    </tr>\n  </tbody>\n</table>\n</div>"
     },
     "execution_count": 273,
     "metadata": {},
     "output_type": "execute_result"
    }
   ],
   "source": [
    "train.head()"
   ],
   "metadata": {
    "collapsed": false,
    "ExecuteTime": {
     "end_time": "2023-10-27T14:41:34.785759Z",
     "start_time": "2023-10-27T14:41:34.766862Z"
    }
   },
   "id": "176955184efff941"
  },
  {
   "cell_type": "code",
   "execution_count": 274,
   "outputs": [
    {
     "data": {
      "text/plain": "  annotations                                             tweets  labels\n0           😂    the conversation is so deep i saw adele rolling       0\n1           😂  lord were coo as lol just waiting for break so...       0\n2           😂                                             i cant       0\n3           😂  these little kids talking about going to canad...       0\n4           😂                                 only would do that       0",
      "text/html": "<div>\n<style scoped>\n    .dataframe tbody tr th:only-of-type {\n        vertical-align: middle;\n    }\n\n    .dataframe tbody tr th {\n        vertical-align: top;\n    }\n\n    .dataframe thead th {\n        text-align: right;\n    }\n</style>\n<table border=\"1\" class=\"dataframe\">\n  <thead>\n    <tr style=\"text-align: right;\">\n      <th></th>\n      <th>annotations</th>\n      <th>tweets</th>\n      <th>labels</th>\n    </tr>\n  </thead>\n  <tbody>\n    <tr>\n      <th>0</th>\n      <td>😂</td>\n      <td>the conversation is so deep i saw adele rolling</td>\n      <td>0</td>\n    </tr>\n    <tr>\n      <th>1</th>\n      <td>😂</td>\n      <td>lord were coo as lol just waiting for break so...</td>\n      <td>0</td>\n    </tr>\n    <tr>\n      <th>2</th>\n      <td>😂</td>\n      <td>i cant</td>\n      <td>0</td>\n    </tr>\n    <tr>\n      <th>3</th>\n      <td>😂</td>\n      <td>these little kids talking about going to canad...</td>\n      <td>0</td>\n    </tr>\n    <tr>\n      <th>4</th>\n      <td>😂</td>\n      <td>only would do that</td>\n      <td>0</td>\n    </tr>\n  </tbody>\n</table>\n</div>"
     },
     "execution_count": 274,
     "metadata": {},
     "output_type": "execute_result"
    }
   ],
   "source": [
    "test.head()"
   ],
   "metadata": {
    "collapsed": false,
    "ExecuteTime": {
     "end_time": "2023-10-27T14:41:35.226967Z",
     "start_time": "2023-10-27T14:41:35.217353Z"
    }
   },
   "id": "439cca089320c8a5"
  },
  {
   "cell_type": "code",
   "execution_count": 275,
   "outputs": [
    {
     "data": {
      "text/plain": "  annotations                                             tweets  labels\n0           😂                        hahaha you guys crack me up       0\n1           😂                                            im dead       0\n2           😂               ate girl the tweet was before tac pa       0\n3           😂  also who wouldve thought that will griggs on f...       0\n4           😂                       im not fooling i you tonight       0",
      "text/html": "<div>\n<style scoped>\n    .dataframe tbody tr th:only-of-type {\n        vertical-align: middle;\n    }\n\n    .dataframe tbody tr th {\n        vertical-align: top;\n    }\n\n    .dataframe thead th {\n        text-align: right;\n    }\n</style>\n<table border=\"1\" class=\"dataframe\">\n  <thead>\n    <tr style=\"text-align: right;\">\n      <th></th>\n      <th>annotations</th>\n      <th>tweets</th>\n      <th>labels</th>\n    </tr>\n  </thead>\n  <tbody>\n    <tr>\n      <th>0</th>\n      <td>😂</td>\n      <td>hahaha you guys crack me up</td>\n      <td>0</td>\n    </tr>\n    <tr>\n      <th>1</th>\n      <td>😂</td>\n      <td>im dead</td>\n      <td>0</td>\n    </tr>\n    <tr>\n      <th>2</th>\n      <td>😂</td>\n      <td>ate girl the tweet was before tac pa</td>\n      <td>0</td>\n    </tr>\n    <tr>\n      <th>3</th>\n      <td>😂</td>\n      <td>also who wouldve thought that will griggs on f...</td>\n      <td>0</td>\n    </tr>\n    <tr>\n      <th>4</th>\n      <td>😂</td>\n      <td>im not fooling i you tonight</td>\n      <td>0</td>\n    </tr>\n  </tbody>\n</table>\n</div>"
     },
     "execution_count": 275,
     "metadata": {},
     "output_type": "execute_result"
    }
   ],
   "source": [
    "valid.head()"
   ],
   "metadata": {
    "collapsed": false,
    "ExecuteTime": {
     "end_time": "2023-10-27T14:41:35.691205Z",
     "start_time": "2023-10-27T14:41:35.686142Z"
    }
   },
   "id": "48d9deca25e727b6"
  },
  {
   "cell_type": "markdown",
   "source": [
    "# Data cleaning"
   ],
   "metadata": {
    "collapsed": false
   },
   "id": "787a7afd1b761972"
  },
  {
   "cell_type": "code",
   "execution_count": 276,
   "outputs": [
    {
     "data": {
      "text/plain": "array(['😂', '😭', '😍', '🙄', '❤', '😊', '😩', '🤔', '😘', '🏽', '💯', '🙃'],\n      dtype=object)"
     },
     "execution_count": 276,
     "metadata": {},
     "output_type": "execute_result"
    }
   ],
   "source": [
    "#emoji map\n",
    "emoji = train['annotations'].unique()\n",
    "emoji"
   ],
   "metadata": {
    "collapsed": false,
    "ExecuteTime": {
     "end_time": "2023-10-27T14:41:36.305680Z",
     "start_time": "2023-10-27T14:41:36.288740Z"
    }
   },
   "id": "f0ea6cb9f8bb8e71"
  },
  {
   "cell_type": "code",
   "execution_count": 277,
   "outputs": [],
   "source": [
    "def preprocess(message):\n",
    "    message = re.sub(\" +\", \" \", re.sub(\"\\d+\", \" \", re.sub(r'[^\\w\\s]', '', message)))\n",
    "    message = word_tokenize(message.lower())\n",
    "    \n",
    "    stop_words = set(stopwords.words('english'))\n",
    "    message = [word for word in message if not word in stop_words]\n",
    "    \n",
    "    lemmatizer = WordNetLemmatizer()\n",
    "    message = [lemmatizer.lemmatize(word) for word in message]\n",
    "    \n",
    "    message = str(' '.join(message))\n",
    "    return message"
   ],
   "metadata": {
    "collapsed": false,
    "ExecuteTime": {
     "end_time": "2023-10-27T14:41:37.089632Z",
     "start_time": "2023-10-27T14:41:37.066385Z"
    }
   },
   "id": "b9354331295c672d"
  },
  {
   "cell_type": "code",
   "execution_count": 278,
   "outputs": [],
   "source": [
    "train['tweets'] = train['tweets'].apply(lambda x: preprocess(x))\n",
    "test['tweets'] = test['tweets'].apply(lambda x: preprocess(x))\n",
    "valid['tweets'] = valid['tweets'].apply(lambda x: preprocess(x))"
   ],
   "metadata": {
    "collapsed": false,
    "ExecuteTime": {
     "end_time": "2023-10-27T14:41:46.211002Z",
     "start_time": "2023-10-27T14:41:40.008631Z"
    }
   },
   "id": "2462512dced98ec"
  },
  {
   "cell_type": "code",
   "execution_count": 279,
   "outputs": [
    {
     "data": {
      "text/plain": "0                                       school dead god\n1                  lol ive told mine worse dont believe\n2                im excited hear shit going rattle soul\n3       damn alicia know everything even indirect tweet\n4                                 sound like everything\n                            ...                        \n95    drunk guy bus compared rosa park kicked also a...\n96                              beefing hoe cant relate\n97                       im gon na make juan proud time\n98    gram gave bottle white henne doesnt even fucki...\n99    yall cant posting freaky stuff im scrolling ti...\nName: tweets, Length: 100, dtype: object"
     },
     "execution_count": 279,
     "metadata": {},
     "output_type": "execute_result"
    }
   ],
   "source": [
    "train['tweets'].head(100)"
   ],
   "metadata": {
    "collapsed": false,
    "ExecuteTime": {
     "end_time": "2023-10-27T14:41:47.948829Z",
     "start_time": "2023-10-27T14:41:47.931490Z"
    }
   },
   "id": "bdd973c570690a40"
  },
  {
   "cell_type": "code",
   "execution_count": 280,
   "outputs": [
    {
     "data": {
      "text/plain": "0                   conversation deep saw adele rolling\n1                      lord coo lol waiting break chill\n2                                                  cant\n3     little kid talking going canada arent u like w...\n4                                                 would\n                            ...                        \n95    yall nigga downgrading yall talk rat looking a...\n96                                            bye bitch\n97                 trending yung father day sa facebook\n98                         ever thought something funny\n99                                       broke as nigga\nName: tweets, Length: 100, dtype: object"
     },
     "execution_count": 280,
     "metadata": {},
     "output_type": "execute_result"
    }
   ],
   "source": [
    "test['tweets'].head(100)"
   ],
   "metadata": {
    "collapsed": false,
    "ExecuteTime": {
     "end_time": "2023-10-27T14:41:48.906632Z",
     "start_time": "2023-10-27T14:41:48.879526Z"
    }
   },
   "id": "d7703a356250db03"
  },
  {
   "cell_type": "code",
   "execution_count": 281,
   "outputs": [
    {
     "data": {
      "text/plain": "0                                      hahaha guy crack\n1                                               im dead\n2                                 ate girl tweet tac pa\n3     also wouldve thought griggs fire would anthem ...\n4                                    im fooling tonight\n                            ...                        \n95    yall ifs different boyfriendsgirlfriends every...\n96    happyyyy birthday one fave gal know youll alwa...\n97    whoever drunk elizabeth girl want liferelatiom...\n98                                                might\n99                                                 true\nName: tweets, Length: 100, dtype: object"
     },
     "execution_count": 281,
     "metadata": {},
     "output_type": "execute_result"
    }
   ],
   "source": [
    "valid['tweets'].head(100)"
   ],
   "metadata": {
    "collapsed": false,
    "ExecuteTime": {
     "end_time": "2023-10-27T14:41:49.644614Z",
     "start_time": "2023-10-27T14:41:49.619083Z"
    }
   },
   "id": "7924363faa6b0c6b"
  },
  {
   "cell_type": "code",
   "execution_count": 282,
   "outputs": [],
   "source": [
    "train_X = train['tweets']\n",
    "train_y = train['labels']\n",
    "test_X = test['tweets']\n",
    "test_y = test['labels']\n",
    "valid_X = valid['tweets']\n",
    "valid_y = valid['labels']"
   ],
   "metadata": {
    "collapsed": false,
    "ExecuteTime": {
     "end_time": "2023-10-27T14:41:50.895437Z",
     "start_time": "2023-10-27T14:41:50.856236Z"
    }
   },
   "id": "4661d2bb7861489f"
  },
  {
   "cell_type": "code",
   "execution_count": 283,
   "outputs": [
    {
     "data": {
      "text/plain": "0"
     },
     "execution_count": 283,
     "metadata": {},
     "output_type": "execute_result"
    }
   ],
   "source": [
    "valid_y[0]"
   ],
   "metadata": {
    "collapsed": false,
    "ExecuteTime": {
     "end_time": "2023-10-27T14:41:57.427075Z",
     "start_time": "2023-10-27T14:41:57.401345Z"
    }
   },
   "id": "ded39c2a6d963133"
  },
  {
   "cell_type": "markdown",
   "source": [
    "# Model"
   ],
   "metadata": {
    "collapsed": false
   },
   "id": "617bcd0b04617a03"
  },
  {
   "cell_type": "markdown",
   "source": [
    "## Sklearn"
   ],
   "metadata": {
    "collapsed": false
   },
   "id": "2d02716edca2df35"
  },
  {
   "cell_type": "code",
   "execution_count": 93,
   "outputs": [],
   "source": [
    "token = RegexpTokenizer(r'[a-zA-Z0-9]+')\n",
    "tokenizer_sk = TfidfVectorizer(ngram_range=(1, 5), tokenizer=token.tokenize, norm=\"l2\")\n",
    "train_X_token = tokenizer_sk.fit_transform(train_X)\n",
    "test_X_token = tokenizer_sk.transform(test_X)\n",
    "valid_X_token = tokenizer_sk.transform(valid_X)"
   ],
   "metadata": {
    "collapsed": false,
    "ExecuteTime": {
     "end_time": "2023-10-26T23:30:38.447156Z",
     "start_time": "2023-10-26T23:30:37.102183Z"
    }
   },
   "id": "c1cb38cc148b9efc"
  },
  {
   "cell_type": "code",
   "execution_count": 94,
   "outputs": [],
   "source": [
    "model_sk = [LogisticRegression(), SVC(), RandomForestClassifier()]\n",
    "metrics = ['Accuracy', 'F1-score']"
   ],
   "metadata": {
    "collapsed": false,
    "ExecuteTime": {
     "end_time": "2023-10-26T23:30:38.451070Z",
     "start_time": "2023-10-26T23:30:38.447726Z"
    }
   },
   "id": "882e5b049ce266ef"
  },
  {
   "cell_type": "code",
   "execution_count": 95,
   "outputs": [
    {
     "data": {
      "text/plain": "13485"
     },
     "execution_count": 95,
     "metadata": {},
     "output_type": "execute_result"
    }
   ],
   "source": [
    "test_X_token.shape[0]"
   ],
   "metadata": {
    "collapsed": false,
    "ExecuteTime": {
     "end_time": "2023-10-26T23:30:38.454069Z",
     "start_time": "2023-10-26T23:30:38.450084Z"
    }
   },
   "id": "8dba082d2ff17fbc"
  },
  {
   "cell_type": "code",
   "execution_count": 96,
   "outputs": [
    {
     "name": "stdout",
     "output_type": "stream",
     "text": [
      "Traing LogisticRegression() with TF-IDF\n",
      "Traing SVC() with TF-IDF\n",
      "Traing RandomForestClassifier() with TF-IDF\n"
     ]
    },
    {
     "data": {
      "text/plain": "<Figure size 1600x600 with 2 Axes>",
      "image/png": "[encoded data removed]"
     },
     "metadata": {},
     "output_type": "display_data"
    }
   ],
   "source": [
    "fig, ax = plt.subplots(nrows = 1, ncols = 2, figsize = (16, 6))\n",
    "min, max = 10, 91\n",
    "for i in range(2):\n",
    "    ax[i].set_title(f'{metrics[i]} with TF-IDF')\n",
    "\n",
    "for i in range(3):\n",
    "    print(f'Traing {model_sk[i]} with TF-IDF')\n",
    "    accuracy, f1 = [], []\n",
    "    for j in range(min, max, 5):\n",
    "        model_sk[i].fit(train_X_token, train_y)\n",
    "        size = int(test_X_token.shape[0] * j / 100)\n",
    "        test_X_token_ = test_X_token[:size]\n",
    "        pred = model_sk[i].predict(test_X_token_)\n",
    "        accuracy.append(accuracy_score(test_y[:size], pred))\n",
    "        f1.append(f1_score(test_y[:size], pred, average='weighted'))\n",
    "    ax[0].plot(range(min, max, 5), accuracy, label = f'{model_sk[i]}')\n",
    "    ax[1].plot(range(min, max, 5), f1, label = f'{model_sk[i]}')\n",
    "ax[0].legend()\n",
    "ax[1].legend()\n",
    "plt.show()\n",
    "plt.savefig('Sklearn.png')"
   ],
   "metadata": {
    "collapsed": false,
    "ExecuteTime": {
     "end_time": "2023-10-27T08:45:55.437386Z",
     "start_time": "2023-10-26T23:30:38.467598Z"
    }
   },
   "id": "1ca469d9d5e9f94e"
  },
  {
   "cell_type": "markdown",
   "source": [
    "## LSTM"
   ],
   "metadata": {
    "collapsed": false
   },
   "id": "e08610a6e0028366"
  },
  {
   "cell_type": "code",
   "execution_count": 284,
   "outputs": [],
   "source": [
    "for i in range(train_X.shape[0]):\n",
    "    train_X[i] = train_X[i].split()\n",
    "\n",
    "for i in range(test_X.shape[0]):\n",
    "    test_X[i] = test_X[i].split()\n",
    "\n",
    "for i in range(valid_X.shape[0]):\n",
    "    valid_X[i] = valid_X[i].split()"
   ],
   "metadata": {
    "collapsed": false,
    "ExecuteTime": {
     "end_time": "2023-10-27T14:42:05.594978Z",
     "start_time": "2023-10-27T14:42:01.493728Z"
    }
   },
   "id": "ec5cb4dc2361fb55"
  },
  {
   "cell_type": "code",
   "execution_count": 285,
   "outputs": [
    {
     "data": {
      "text/plain": "(52884,)"
     },
     "execution_count": 285,
     "metadata": {},
     "output_type": "execute_result"
    }
   ],
   "source": [
    "train_X.shape"
   ],
   "metadata": {
    "collapsed": false,
    "ExecuteTime": {
     "end_time": "2023-10-27T14:42:08.847138Z",
     "start_time": "2023-10-27T14:42:08.827241Z"
    }
   },
   "id": "584c64f65a9e8777"
  },
  {
   "cell_type": "code",
   "execution_count": 292,
   "outputs": [
    {
     "name": "stdout",
     "output_type": "stream",
     "text": [
      "school\n",
      "dead\n",
      "god\n"
     ]
    }
   ],
   "source": [
    "for i in train_X[0]:\n",
    "    print(i)"
   ],
   "metadata": {
    "collapsed": false,
    "ExecuteTime": {
     "end_time": "2023-10-27T14:45:05.537208Z",
     "start_time": "2023-10-27T14:45:05.477265Z"
    }
   },
   "id": "92cfa3bbb796230d"
  },
  {
   "cell_type": "code",
   "execution_count": 166,
   "outputs": [],
   "source": [
    "!wget http://nlp.stanford.edu/data/glove.twitter.27B.zip\n",
    "!unzip glove*.zip"
   ],
   "metadata": {
    "collapsed": false,
    "ExecuteTime": {
     "end_time": "2023-10-27T13:23:48.441327Z",
     "start_time": "2023-10-27T13:23:48.025112Z"
    }
   },
   "id": "ac08011968986a5e"
  },
  {
   "cell_type": "code",
   "execution_count": 332,
   "outputs": [],
   "source": [
    "embeddings_index = {}\n",
    "\n",
    "f = open('glove.twitter.27B.100d.txt', encoding = \"utf8\")\n",
    "for line in f:\n",
    "    w_values = line.split()\n",
    "    word = w_values[0]\n",
    "    embeddings_index[word] = np.asarray(w_values[1:], dtype='float32')\n",
    "f.close()"
   ],
   "metadata": {
    "collapsed": false,
    "ExecuteTime": {
     "end_time": "2023-10-27T15:04:36.620829Z",
     "start_time": "2023-10-27T15:04:23.801441Z"
    }
   },
   "id": "408ff1b0a9959c16"
  },
  {
   "cell_type": "code",
   "execution_count": 333,
   "outputs": [
    {
     "data": {
      "text/plain": "(100,)"
     },
     "execution_count": 333,
     "metadata": {},
     "output_type": "execute_result"
    }
   ],
   "source": [
    "embeddings_index['h'].shape"
   ],
   "metadata": {
    "collapsed": false,
    "ExecuteTime": {
     "end_time": "2023-10-27T15:04:36.625375Z",
     "start_time": "2023-10-27T15:04:36.622203Z"
    }
   },
   "id": "7624c603caf64c34"
  },
  {
   "cell_type": "code",
   "execution_count": 361,
   "outputs": [],
   "source": [
    "matrix_train = np.zeros((train_X.shape[0], 34, 100))\n",
    "matrix_test = np.zeros((test_X.shape[0], 34, 100))\n",
    "matrix_valid = np.zeros((valid_X.shape[0], 34, 100))\n",
    "\n",
    "for i in range(train_X.shape[0]):\n",
    "    sum = 0\n",
    "    for j in train_X[i]:     \n",
    "        if (j in embeddings_index.keys()):\n",
    "            matrix_train[i][sum] = embeddings_index[j]\n",
    "        else:\n",
    "            matrix_train[i][sum] = np.zeros(100)\n",
    "        sum += 1\n",
    "\n",
    "for i in range(test_X.shape[0]):\n",
    "    sum = 0\n",
    "    for j in test_X[i]:\n",
    "        if (j in embeddings_index.keys()):\n",
    "            matrix_test[i][sum] = embeddings_index[j]\n",
    "        else:\n",
    "            matrix_test[i][sum] = np.zeros(100)\n",
    "        sum += 1\n",
    "\n",
    "for i in range(valid_X.shape[0]):\n",
    "    sum = 0\n",
    "    for j in valid_X[i]:\n",
    "        if (j in embeddings_index.keys()):\n",
    "            matrix_valid[i][sum] = embeddings_index[j]\n",
    "        else:\n",
    "            matrix_valid[i][sum] = np.zeros(100)\n",
    "        sum += 1"
   ],
   "metadata": {
    "collapsed": false,
    "ExecuteTime": {
     "end_time": "2023-10-27T15:08:27.757344Z",
     "start_time": "2023-10-27T15:08:27.277658Z"
    }
   },
   "id": "334c74758b6019e0"
  },
  {
   "cell_type": "code",
   "execution_count": 362,
   "outputs": [
    {
     "data": {
      "text/plain": "(52884, 34, 100)"
     },
     "execution_count": 362,
     "metadata": {},
     "output_type": "execute_result"
    }
   ],
   "source": [
    "matrix_train.shape"
   ],
   "metadata": {
    "collapsed": false,
    "ExecuteTime": {
     "end_time": "2023-10-27T15:08:28.643141Z",
     "start_time": "2023-10-27T15:08:28.621421Z"
    }
   },
   "id": "b58795f554339296"
  },
  {
   "cell_type": "code",
   "execution_count": 368,
   "outputs": [],
   "source": [
    "class Model(nn.Module):\n",
    "    def __init__(self, in_dim, hidden_dim, n_class):\n",
    "        super(Model, self).__init__()\n",
    "        self.lstm = nn.LSTM(in_dim, hidden_dim, bidirectional=True, batch_first=True)\n",
    "        self.dropout = nn.Dropout(0.5)\n",
    "        self.fc = nn.Linear(2*hidden_dim, n_class)\n",
    "        self.softmax = nn.Softmax(dim=1)\n",
    "    \n",
    "    def forward(self, x):\n",
    "        x = x.float()\n",
    "        x, _ = self.lstm(x)\n",
    "        x = self.dropout(x)\n",
    "        x = x[:, -1]\n",
    "        x = self.fc(x)\n",
    "        #x = self.softmax(x)\n",
    "        return x"
   ],
   "metadata": {
    "collapsed": false,
    "ExecuteTime": {
     "end_time": "2023-10-27T15:09:07.100678Z",
     "start_time": "2023-10-27T15:09:07.079932Z"
    }
   },
   "id": "fc7099612c5f5471"
  },
  {
   "cell_type": "code",
   "execution_count": 381,
   "outputs": [],
   "source": [
    "model_lstm = Model(100, 17, 10)"
   ],
   "metadata": {
    "collapsed": false,
    "ExecuteTime": {
     "end_time": "2023-10-27T16:56:16.743566Z",
     "start_time": "2023-10-27T16:56:16.718882Z"
    }
   },
   "id": "fbb676bb17933f26"
  },
  {
   "cell_type": "code",
   "execution_count": 370,
   "outputs": [],
   "source": [
    "criterion = nn.CrossEntropyLoss()\n",
    "optimizer = torch.optim.Adam(model_lstm.parameters(), lr=0.001)"
   ],
   "metadata": {
    "collapsed": false,
    "ExecuteTime": {
     "end_time": "2023-10-27T15:09:10.059283Z",
     "start_time": "2023-10-27T15:09:10.040139Z"
    }
   },
   "id": "5a25dbccd8484518"
  },
  {
   "cell_type": "code",
   "execution_count": 371,
   "outputs": [],
   "source": [
    "best_acc = 0\n",
    "patience = 0\n",
    "count = 0"
   ],
   "metadata": {
    "collapsed": false,
    "ExecuteTime": {
     "end_time": "2023-10-27T15:09:10.461501Z",
     "start_time": "2023-10-27T15:09:10.455893Z"
    }
   },
   "id": "e483f9c38640f452"
  },
  {
   "cell_type": "code",
   "execution_count": 380,
   "outputs": [
    {
     "name": "stdout",
     "output_type": "stream",
     "text": [
      "Epoch: 1, Step: 0, Loss: 23.582626342773438\n",
      "Epoch: 1, Step: 10000, Loss: 0.16758769750595093\n",
      "Epoch: 1, Step: 20000, Loss: 2.145764938177308e-06\n",
      "Epoch: 1, Step: 30000, Loss: 0.0010514690075069666\n",
      "Epoch: 1, Step: 40000, Loss: 5.030505417380482e-05\n",
      "Epoch: 1, Step: 50000, Loss: 0.00013493580627255142\n",
      "Epoch: 1, Validation Accuracy: 0.042652622209034936\n",
      "Epoch: 2, Step: 0, Loss: 16.38899040222168\n",
      "Epoch: 2, Step: 10000, Loss: 0.005031067878007889\n",
      "Epoch: 2, Step: 20000, Loss: 4.029192859889008e-05\n",
      "Epoch: 2, Step: 30000, Loss: 0.0\n",
      "Epoch: 2, Step: 40000, Loss: 0.4981456696987152\n",
      "Epoch: 2, Step: 50000, Loss: 7.152555099310121e-07\n",
      "Epoch: 2, Validation Accuracy: 0.042652622209034936\n",
      "Early stopping at epoch 1\n"
     ]
    }
   ],
   "source": [
    "for epoch in range(10):\n",
    "    model_lstm.train()\n",
    "    for i in range(matrix_train.shape[0]):\n",
    "        optimizer.zero_grad()\n",
    "        output = model_lstm(torch.tensor(matrix_train[i]))\n",
    "        loss = criterion(output, torch.tensor(train_y[i]))\n",
    "        loss.backward()\n",
    "        optimizer.step()\n",
    "        if i % 10000 == 0:\n",
    "            print(f'Epoch: {epoch+1}, Step: {i}, Loss: {loss.item()}')\n",
    "    model_lstm.eval()\n",
    "    correct = 0\n",
    "    total = 0\n",
    "    with torch.no_grad():\n",
    "        for i in range(matrix_valid.shape[0]):\n",
    "            output = model_lstm(torch.tensor(matrix_valid[i]))\n",
    "            if (torch.argmax(output) - valid_y[i])<0.0001:\n",
    "                correct += 1\n",
    "            total += 1\n",
    "    \n",
    "    acc = correct / total\n",
    "    print(f'Epoch: {epoch+1}, Validation Accuracy: {acc}')\n",
    "    if acc > best_acc:\n",
    "        best_acc = acc\n",
    "        count = 0\n",
    "    else:\n",
    "        count += 1\n",
    "        if count >= patience:\n",
    "            print(f'Early stopping at epoch {epoch}')\n",
    "            break"
   ],
   "metadata": {
    "collapsed": false,
    "ExecuteTime": {
     "end_time": "2023-10-27T16:18:40.516450Z",
     "start_time": "2023-10-27T16:09:03.982529Z"
    }
   },
   "id": "3f578ef58be13e92"
  },
  {
   "cell_type": "code",
   "execution_count": null,
   "outputs": [],
   "source": [],
   "metadata": {
    "collapsed": false
   },
   "id": "877006bfd7cddb84"
  }
 ],
 "metadata": {
  "kernelspec": {
   "display_name": "Python 3",
   "language": "python",
   "name": "python3"
  },
  "language_info": {
   "codemirror_mode": {
    "name": "ipython",
    "version": 2
   },
   "file_extension": ".py",
   "mimetype": "text/x-python",
   "name": "python",
   "nbconvert_exporter": "python",
   "pygments_lexer": "ipython2",
   "version": "3.11.5"
  }
 },
 "nbformat": 4,
 "nbformat_minor": 5
}
