{
 "cells": [
  {
   "cell_type": "markdown",
   "id": "ac1ceafb0a09d3cb",
   "metadata": {
    "collapsed": false
   },
   "source": [
    "# Import the libraries"
   ]
  },
  {
   "cell_type": "code",
   "execution_count": 1,
   "id": "328985f11a5d48b3",
   "metadata": {
    "collapsed": false,
    "ExecuteTime": {
     "end_time": "2023-10-24T14:07:54.869966Z",
     "start_time": "2023-10-24T14:07:54.862715Z"
    }
   },
   "outputs": [],
   "source": [
    "import numpy as np\n",
    "import pandas as pd\n",
    "import matplotlib.pyplot as plt\n",
    "import seaborn as sns\n",
    "import os"
   ]
  },
  {
   "cell_type": "markdown",
   "source": [
    "# Import the datasets"
   ],
   "metadata": {
    "collapsed": false
   },
   "id": "462a69dca47de3aa"
  },
  {
   "cell_type": "code",
   "execution_count": 4,
   "outputs": [],
   "source": [
    "emoji_map = pd.read_csv('Datasets/emoji_map_1791.csv')"
   ],
   "metadata": {
    "collapsed": false,
    "ExecuteTime": {
     "end_time": "2023-10-24T14:25:14.102494Z",
     "start_time": "2023-10-24T14:25:14.091467Z"
    }
   },
   "id": "7828a114c232763e"
  },
  {
   "cell_type": "code",
   "execution_count": 5,
   "outputs": [
    {
     "data": {
      "text/plain": "  Unnamed: 0 category               title      shorts unicode_alternates  \\\n0        #️⃣  symbols  keycap number sign      [hash]     0023-fe0f-20e3   \n1        *️⃣  symbols     keycap asterisk  [asterisk]     002a-fe0f-20e3   \n2        0️⃣  symbols   keycap digit zero      [zero]     0030-fe0f-20e3   \n3        1️⃣  symbols    keycap digit one       [one]     0031-fe0f-20e3   \n4        2️⃣  symbols    keycap digit two       [two]     0032-fe0f-20e3   \n\n                                 keywords     ucode_short ucode  \\\n0   [keycap, symbol, pound, hash, number]  0023_fe0f_20e3   #️⃣   \n1        [keycap, symbol, asterisk, star]  002a_fe0f_20e3   *️⃣   \n2  [, keycap, symbol, number, zero, math]  0030_fe0f_20e3   0️⃣   \n3   [, keycap, symbol, number, one, math]  0031_fe0f_20e3   1️⃣   \n4   [, keycap, symbol, two, number, math]  0032_fe0f_20e3   2️⃣   \n\n               aliases alt_title aliases_ascii  \n0                  NaN       NaN           NaN  \n1  [:keycap_asterisk:]       NaN           NaN  \n2                  NaN       NaN           NaN  \n3                  NaN       NaN           NaN  \n4                  NaN       NaN           NaN  ",
      "text/html": "<div>\n<style scoped>\n    .dataframe tbody tr th:only-of-type {\n        vertical-align: middle;\n    }\n\n    .dataframe tbody tr th {\n        vertical-align: top;\n    }\n\n    .dataframe thead th {\n        text-align: right;\n    }\n</style>\n<table border=\"1\" class=\"dataframe\">\n  <thead>\n    <tr style=\"text-align: right;\">\n      <th></th>\n      <th>Unnamed: 0</th>\n      <th>category</th>\n      <th>title</th>\n      <th>shorts</th>\n      <th>unicode_alternates</th>\n      <th>keywords</th>\n      <th>ucode_short</th>\n      <th>ucode</th>\n      <th>aliases</th>\n      <th>alt_title</th>\n      <th>aliases_ascii</th>\n    </tr>\n  </thead>\n  <tbody>\n    <tr>\n      <th>0</th>\n      <td>#️⃣</td>\n      <td>symbols</td>\n      <td>keycap number sign</td>\n      <td>[hash]</td>\n      <td>0023-fe0f-20e3</td>\n      <td>[keycap, symbol, pound, hash, number]</td>\n      <td>0023_fe0f_20e3</td>\n      <td>#️⃣</td>\n      <td>NaN</td>\n      <td>NaN</td>\n      <td>NaN</td>\n    </tr>\n    <tr>\n      <th>1</th>\n      <td>*️⃣</td>\n      <td>symbols</td>\n      <td>keycap asterisk</td>\n      <td>[asterisk]</td>\n      <td>002a-fe0f-20e3</td>\n      <td>[keycap, symbol, asterisk, star]</td>\n      <td>002a_fe0f_20e3</td>\n      <td>*️⃣</td>\n      <td>[:keycap_asterisk:]</td>\n      <td>NaN</td>\n      <td>NaN</td>\n    </tr>\n    <tr>\n      <th>2</th>\n      <td>0️⃣</td>\n      <td>symbols</td>\n      <td>keycap digit zero</td>\n      <td>[zero]</td>\n      <td>0030-fe0f-20e3</td>\n      <td>[, keycap, symbol, number, zero, math]</td>\n      <td>0030_fe0f_20e3</td>\n      <td>0️⃣</td>\n      <td>NaN</td>\n      <td>NaN</td>\n      <td>NaN</td>\n    </tr>\n    <tr>\n      <th>3</th>\n      <td>1️⃣</td>\n      <td>symbols</td>\n      <td>keycap digit one</td>\n      <td>[one]</td>\n      <td>0031-fe0f-20e3</td>\n      <td>[, keycap, symbol, number, one, math]</td>\n      <td>0031_fe0f_20e3</td>\n      <td>1️⃣</td>\n      <td>NaN</td>\n      <td>NaN</td>\n      <td>NaN</td>\n    </tr>\n    <tr>\n      <th>4</th>\n      <td>2️⃣</td>\n      <td>symbols</td>\n      <td>keycap digit two</td>\n      <td>[two]</td>\n      <td>0032-fe0f-20e3</td>\n      <td>[, keycap, symbol, two, number, math]</td>\n      <td>0032_fe0f_20e3</td>\n      <td>2️⃣</td>\n      <td>NaN</td>\n      <td>NaN</td>\n      <td>NaN</td>\n    </tr>\n  </tbody>\n</table>\n</div>"
     },
     "execution_count": 5,
     "metadata": {},
     "output_type": "execute_result"
    }
   ],
   "source": [
    "emoji_map.head()"
   ],
   "metadata": {
    "collapsed": false,
    "ExecuteTime": {
     "end_time": "2023-10-24T14:25:19.639786Z",
     "start_time": "2023-10-24T14:25:19.618695Z"
    }
   },
   "id": "5936a4c429185dd0"
  },
  {
   "cell_type": "code",
   "execution_count": null,
   "outputs": [],
   "source": [],
   "metadata": {
    "collapsed": false
   },
   "id": "176955184efff941"
  }
 ],
 "metadata": {
  "kernelspec": {
   "display_name": "Python 3",
   "language": "python",
   "name": "python3"
  },
  "language_info": {
   "codemirror_mode": {
    "name": "ipython",
    "version": 2
   },
   "file_extension": ".py",
   "mimetype": "text/x-python",
   "name": "python",
   "nbconvert_exporter": "python",
   "pygments_lexer": "ipython2",
   "version": "3.11.5"
  }
 },
 "nbformat": 4,
 "nbformat_minor": 5
}
